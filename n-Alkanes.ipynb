{
 "cells": [
  {
   "cell_type": "code",
   "execution_count": 2,
   "metadata": {},
   "outputs": [
    {
     "name": "stdout",
     "output_type": "stream",
     "text": [
      "overwrite output file: /home/as1/Molecular Calculations - Summer2022QP/n-Alkanes/Calculations/methane.txt\n"
     ]
    },
    {
     "data": {
      "text/plain": [
       "-40.213137942704726"
      ]
     },
     "execution_count": 2,
     "metadata": {},
     "output_type": "execute_result"
    }
   ],
   "source": [
    "#Methane\n",
    "import pyscf\n",
    "from pyscf import gto, scf\n",
    "\n",
    "mol = gto.Mole()\n",
    "mol.atom = \"\"\"\n",
    "C 0.0000000 0.0000000 0.0000000\n",
    "H 0.6311940 0.6311940 0.6311940\n",
    "H -0.6311940 -0.6311940 0.6311940\n",
    "H -0.6311940 0.6311940 -0.6311940\n",
    "H 0.6311940 -0.6311940 -0.6311940\n",
    "\"\"\"\n",
    "mol.basis = 'cc-pVTZ'\n",
    "mol.verbose = 5\n",
    "mol.output = '/home/as1/Molecular Calculations - Summer2022QP/n-Alkanes/Calculations/methane.txt'\n",
    "mol.build()\n",
    "\n",
    "mf = scf.RHF(mol)\n",
    "mf.kernel()"
   ]
  },
  {
   "cell_type": "code",
   "execution_count": 4,
   "metadata": {},
   "outputs": [
    {
     "name": "stdout",
     "output_type": "stream",
     "text": [
      "overwrite output file: /home/as1/Molecular Calculations - Summer2022QP/n-Alkanes/Calculations/ethane.txt\n"
     ]
    },
    {
     "data": {
      "text/plain": [
       "-79.25943727786446"
      ]
     },
     "execution_count": 4,
     "metadata": {},
     "output_type": "execute_result"
    }
   ],
   "source": [
    "#Ethane\n",
    "import pyscf\n",
    "from pyscf import gto, scf\n",
    "\n",
    "mol = gto.Mole()\n",
    "mol.atom = \"\"\"\n",
    "C\t0.0000000\t0.0000000\t0.7653100\n",
    "C\t0.0000000\t0.0000000\t-0.7653100\n",
    "H\t0.0000000\t1.0210100\t1.1641940\n",
    "H\t-0.8842210\t-0.5105050\t1.1641940\n",
    "H\t0.8842210\t-0.5105050\t1.1641940\n",
    "H\t0.0000000\t-1.0210100\t-1.1641940\n",
    "H\t-0.8842210\t0.5105050\t-1.1641940\n",
    "H\t0.8842210\t0.5105050\t-1.1641940\n",
    "\"\"\"\n",
    "mol.basis = 'cc-pVTZ'\n",
    "mol.verbose = 5\n",
    "mol.output = '/home/as1/Molecular Calculations - Summer2022QP/n-Alkanes/Calculations/ethane.txt'\n",
    "mol.build()\n",
    "\n",
    "mf = scf.RHF(mol)\n",
    "mf.kernel()"
   ]
  },
  {
   "cell_type": "code",
   "execution_count": 8,
   "metadata": {},
   "outputs": [
    {
     "name": "stdout",
     "output_type": "stream",
     "text": [
      "overwrite output file: /home/as1/Molecular Calculations - Summer2022QP/n-Alkanes/Calculations/propane.txt\n"
     ]
    },
    {
     "data": {
      "text/plain": [
       "-118.30719090896862"
      ]
     },
     "execution_count": 8,
     "metadata": {},
     "output_type": "execute_result"
    }
   ],
   "source": [
    "#Propane\n",
    "import pyscf\n",
    "from pyscf import gto, scf\n",
    "\n",
    "mol = gto.Mole()\n",
    "mol.atom = \"\"\"\n",
    "C\t0.0000000\t0.0000000\t0.5863880\n",
    "C\t0.0000000\t1.2772660\t-0.2598690\n",
    "C\t0.0000000\t-1.2772660\t-0.2598690\n",
    "H\t0.8776490\t0.0000000\t1.2470320\n",
    "H\t-0.8776490\t0.0000000\t1.2470320\n",
    "H\t0.0000000\t2.1760070\t0.3677010\n",
    "H\t0.0000000\t-2.1760070\t0.3677010\n",
    "H\t0.8846270\t1.3224170\t-0.9073410\n",
    "H\t-0.8846270\t1.3224170\t-0.9073410\n",
    "H\t-0.8846270\t-1.3224170\t-0.9073410\n",
    "H\t0.8846270\t-1.3224170\t-0.9073410\n",
    "\"\"\"\n",
    "mol.basis = 'cc-pVTZ'\n",
    "mol.verbose = 5\n",
    "mol.output = '/home/as1/Molecular Calculations - Summer2022QP/n-Alkanes/Calculations/propane.txt'\n",
    "mol.build()\n",
    "\n",
    "mf = scf.RHF(mol)\n",
    "mf.kernel()"
   ]
  },
  {
   "cell_type": "code",
   "execution_count": 12,
   "metadata": {},
   "outputs": [
    {
     "name": "stdout",
     "output_type": "stream",
     "text": [
      "overwrite output file: /home/as1/Molecular Calculations - Summer2022QP/n-Alkanes/Calculations/n-butane.txt\n"
     ]
    },
    {
     "data": {
      "text/plain": [
       "-157.3548179724538"
      ]
     },
     "execution_count": 12,
     "metadata": {},
     "output_type": "execute_result"
    }
   ],
   "source": [
    "#n-Butane\n",
    "import pyscf\n",
    "from pyscf import gto, scf\n",
    "\n",
    "mol = gto.Mole()\n",
    "mol.atom = \"\"\"\n",
    "C\t-0.4218040\t0.6407370\t0.0000000\n",
    "C\t0.4218040\t-0.6407370\t0.0000000\n",
    "C\t0.4218040\t1.9198930\t0.0000000\n",
    "C\t-0.4218040\t-1.9198930\t0.0000000\n",
    "H\t-1.0831630\t0.6373520\t0.8782670\n",
    "H\t-1.0831630\t0.6373520\t-0.8782670\n",
    "H\t1.0831630\t-0.6373520\t0.8782670\n",
    "H\t1.0831630\t-0.6373520\t-0.8782670\n",
    "H\t-0.2088070\t2.8163860\t0.0000000\n",
    "H\t1.0686920\t1.9672850\t0.8847760\n",
    "H\t1.0686920\t1.9672850\t-0.8847760\n",
    "H\t0.2088070\t-2.8163860\t0.0000000\n",
    "H\t-1.0686920\t-1.9672850\t0.8847760\n",
    "H\t-1.0686920\t-1.9672850\t-0.8847760\n",
    "\"\"\"\n",
    "mol.basis = 'cc-pVTZ'\n",
    "mol.verbose = 5\n",
    "mol.output = '/home/as1/Molecular Calculations - Summer2022QP/n-Alkanes/Calculations/n-butane.txt'\n",
    "mol.build()\n",
    "\n",
    "mf = scf.RHF(mol)\n",
    "mf.kernel()"
   ]
  },
  {
   "cell_type": "code",
   "execution_count": 16,
   "metadata": {},
   "outputs": [
    {
     "name": "stdout",
     "output_type": "stream",
     "text": [
      "overwrite output file: /home/as1/Molecular Calculations - Summer2022QP/n-Alkanes/Calculations/n-pentane.txt\n"
     ]
    },
    {
     "data": {
      "text/plain": [
       "-196.40235921408265"
      ]
     },
     "execution_count": 16,
     "metadata": {},
     "output_type": "execute_result"
    }
   ],
   "source": [
    "#n-Pentane\n",
    "import pyscf\n",
    "from pyscf import gto, scf\n",
    "\n",
    "mol = gto.Mole()\n",
    "mol.atom = \"\"\"\n",
    "C\t0.0000000\t0.0000000\t0.3162240\n",
    "C\t0.0000000\t1.2838260\t-0.5236230\n",
    "C\t0.0000000\t-1.2838260\t-0.5236230\n",
    "C\t0.0000000\t2.5603270\t0.3242260\n",
    "C\t0.0000000\t-2.5603270\t0.3242260\n",
    "H\t0.8786860\t0.0000000\t0.9787150\n",
    "H\t-0.8786860\t0.0000000\t0.9787150\n",
    "H\t0.8782330\t1.2834900\t-1.1848710\n",
    "H\t-0.8782330\t1.2834900\t-1.1848710\n",
    "H\t-0.8782330\t-1.2834900\t-1.1848710\n",
    "H\t0.8782330\t-1.2834900\t-1.1848710\n",
    "H\t0.0000000\t3.4586640\t-0.3037840\n",
    "H\t0.0000000\t-3.4586640\t-0.3037840\n",
    "H\t-0.8847400\t2.6057440\t0.9712600\n",
    "H\t0.8847400\t2.6057440\t0.9712600\n",
    "H\t0.8847400\t-2.6057440\t0.9712600\n",
    "H\t-0.8847400\t-2.6057440\t0.9712600\n",
    "\"\"\"\n",
    "mol.basis = 'cc-pVTZ'\n",
    "mol.verbose = 5\n",
    "mol.output = '/home/as1/Molecular Calculations - Summer2022QP/n-Alkanes/Calculations/n-pentane.txt'\n",
    "mol.build()\n",
    "\n",
    "mf = scf.RHF(mol)\n",
    "mf.kernel()"
   ]
  },
  {
   "cell_type": "code",
   "execution_count": 21,
   "metadata": {},
   "outputs": [
    {
     "name": "stdout",
     "output_type": "stream",
     "text": [
      "overwrite output file: /home/as1/Molecular Calculations - Summer2022QP/n-Alkanes/Calculations/hexane.txt\n"
     ]
    },
    {
     "data": {
      "text/plain": [
       "-235.44821695735052"
      ]
     },
     "execution_count": 21,
     "metadata": {},
     "output_type": "execute_result"
    }
   ],
   "source": [
    "#n-Hexane\n",
    "import pyscf\n",
    "from pyscf import gto, scf\n",
    "\n",
    "mol = gto.Mole()\n",
    "mol.atom = \"\"\"\n",
    "C\t1.3890470\t2.9146410\t0.0000000\n",
    "C\t-1.3890470\t-2.9146410\t0.0000000\n",
    "C\t0.0000000\t0.7659750\t0.0000000\n",
    "C\t0.0000000\t-0.7659750\t0.0000000\n",
    "C\t-1.4020920\t-1.3842340\t0.0000000\n",
    "C\t1.4020920\t1.3842340\t0.0000000\n",
    "H\t-2.4101570\t-3.3294640\t0.0000000\n",
    "H\t2.4101570\t3.3294640\t0.0000000\n",
    "H\t0.8683010\t3.3098850\t0.8890600\n",
    "H\t0.8683010\t3.3098850\t-0.8890600\n",
    "H\t-0.8683010\t-3.3098850\t-0.8890600\n",
    "H\t-0.8683010\t-3.3098850\t0.8890600\n",
    "H\t1.9604490\t1.0198490\t-0.8821080\n",
    "H\t1.9604490\t1.0198490\t0.8821080\n",
    "H\t-1.9604490\t-1.0198490\t-0.8821080\n",
    "H\t-1.9604490\t-1.0198490\t0.8821080\n",
    "H\t-0.5587170\t1.1315770\t0.8828320\n",
    "H\t-0.5587170\t1.1315770\t-0.8828320\n",
    "H\t0.5587170\t-1.1315770\t-0.8828320\n",
    "H\t0.5587170\t-1.1315770\t0.8828320\n",
    "\"\"\"\n",
    "mol.basis = 'cc-pVTZ'\n",
    "mol.verbose = 5\n",
    "mol.output = '/home/as1/Molecular Calculations - Summer2022QP/n-Alkanes/Calculations/hexane.txt'\n",
    "mol.build()\n",
    "\n",
    "mf = scf.RHF(mol)\n",
    "mf.kernel()"
   ]
  },
  {
   "cell_type": "code",
   "execution_count": 26,
   "metadata": {},
   "outputs": [
    {
     "name": "stdout",
     "output_type": "stream",
     "text": [
      "overwrite output file: /home/as1/Molecular Calculations - Summer2022QP/n-Alkanes/Calculations/n-Heptane.txt\n"
     ]
    },
    {
     "data": {
      "text/plain": [
       "-274.49552510965805"
      ]
     },
     "execution_count": 26,
     "metadata": {},
     "output_type": "execute_result"
    }
   ],
   "source": [
    "#n-Heptane\n",
    "import pyscf\n",
    "from pyscf import gto, scf\n",
    "\n",
    "mol = gto.Mole()\n",
    "mol.atom = \"\"\"\n",
    "C\t0.0000000\t0.0000000\t0.4934020\n",
    "C\t0.0000000\t1.2832310\t-0.3434820\n",
    "C\t0.0000000\t-1.2832310\t-0.3434820\n",
    "C\t0.0000000\t2.5668650\t0.4935150\n",
    "C\t0.0000000\t-2.5668650\t0.4935150\n",
    "C\t0.0000000\t3.8424360\t-0.3517140\n",
    "C\t0.0000000\t-3.8424360\t-0.3517140\n",
    "H\t-0.8823680\t0.0000000\t1.1612440\n",
    "H\t0.8823680\t0.0000000\t1.1612440\n",
    "H\t-0.8824670\t1.2842400\t-1.0114600\n",
    "H\t0.8824670\t1.2842400\t-1.0114600\n",
    "H\t0.8824670\t-1.2842400\t-1.0114600\n",
    "H\t-0.8824670\t-1.2842400\t-1.0114600\n",
    "H\t0.8820290\t2.5655650\t1.1605680\n",
    "H\t-0.8820290\t2.5655650\t1.1605680\n",
    "H\t-0.8820290\t-2.5655650\t1.1605680\n",
    "H\t0.8820290\t-2.5655650\t1.1605680\n",
    "H\t0.0000000\t4.7467540\t0.2782280\n",
    "H\t0.8889130\t3.8904130\t-1.0039020\n",
    "H\t-0.8889130\t3.8904130\t-1.0039020\n",
    "H\t0.0000000\t-4.7467540\t0.2782280\n",
    "H\t-0.8889130\t-3.8904130\t-1.0039020\n",
    "H\t0.8889130\t-3.8904130\t-1.0039020\n",
    "\"\"\"\n",
    "mol.basis = 'cc-pVTZ'\n",
    "mol.verbose = 5\n",
    "mol.output = '/home/as1/Molecular Calculations - Summer2022QP/n-Alkanes/Calculations/n-Heptane.txt'\n",
    "mol.build()\n",
    "\n",
    "mf = scf.RHF(mol)\n",
    "mf.kernel()"
   ]
  },
  {
   "cell_type": "code",
   "execution_count": 30,
   "metadata": {},
   "outputs": [
    {
     "name": "stdout",
     "output_type": "stream",
     "text": [
      "overwrite output file: /home/as1/Molecular Calculations - Summer2022QP/n-Alkanes/Calculations/n-Octane.txt\n"
     ]
    },
    {
     "data": {
      "text/plain": [
       "-313.54283014309715"
      ]
     },
     "execution_count": 30,
     "metadata": {},
     "output_type": "execute_result"
    }
   ],
   "source": [
    "#n-Octane\n",
    "import pyscf\n",
    "from pyscf import gto, scf\n",
    "\n",
    "mol = gto.Mole()\n",
    "mol.atom = \"\"\"\n",
    "C\t0.0016230\t0.7661060\t0.0000000\n",
    "C\t-0.0016230\t-0.7661060\t0.0000000\n",
    "C\t-1.3999040\t1.3847710\t0.0000000\n",
    "C\t1.3999040\t-1.3847710\t0.0000000\n",
    "C\t-1.3999040\t2.9171520\t0.0000000\n",
    "C\t1.3999040\t-2.9171520\t0.0000000\n",
    "C\t-2.8044450\t3.5241970\t0.0000000\n",
    "C\t2.8044450\t-3.5241970\t0.0000000\n",
    "H\t0.5614590\t1.1300360\t0.8824090\n",
    "H\t0.5614590\t1.1300360\t-0.8824090\n",
    "H\t-0.5614590\t-1.1300360\t0.8824090\n",
    "H\t-0.5614590\t-1.1300360\t-0.8824090\n",
    "H\t-1.9601280\t1.0208070\t-0.8824160\n",
    "H\t-1.9601280\t1.0208070\t0.8824160\n",
    "H\t1.9601280\t-1.0208070\t-0.8824160\n",
    "H\t1.9601280\t-1.0208070\t0.8824160\n",
    "H\t-0.8403940\t3.2803990\t0.8820440\n",
    "H\t-0.8403940\t3.2803990\t-0.8820440\n",
    "H\t0.8403940\t-3.2803990\t0.8820440\n",
    "H\t0.8403940\t-3.2803990\t-0.8820440\n",
    "H\t-2.7703020\t4.6257570\t0.0000000\n",
    "H\t-3.3772990\t3.2085420\t-0.8888630\n",
    "H\t-3.3772990\t3.2085420\t0.8888630\n",
    "H\t2.7703020\t-4.6257570\t0.0000000\n",
    "H\t3.3772990\t-3.2085420\t-0.8888630\n",
    "H\t3.3772990\t-3.2085420\t0.8888630\n",
    "\"\"\"\n",
    "mol.basis = 'cc-pVTZ'\n",
    "mol.verbose = 5\n",
    "mol.output = '/home/as1/Molecular Calculations - Summer2022QP/n-Alkanes/Calculations/n-Octane.txt'\n",
    "mol.build()\n",
    "\n",
    "mf = scf.RHF(mol)\n",
    "mf.kernel()"
   ]
  },
  {
   "cell_type": "code",
   "execution_count": 34,
   "metadata": {},
   "outputs": [
    {
     "name": "stdout",
     "output_type": "stream",
     "text": [
      "overwrite output file: /home/as1/Molecular Calculations - Summer2022QP/n-Alkanes/Calculations/n-Nonane.txt\n"
     ]
    },
    {
     "data": {
      "text/plain": [
       "-352.59014685812406"
      ]
     },
     "execution_count": 34,
     "metadata": {},
     "output_type": "execute_result"
    }
   ],
   "source": [
    "#n-Nonane\n",
    "import pyscf\n",
    "from pyscf import gto, scf\n",
    "\n",
    "mol = gto.Mole()\n",
    "mol.atom = \"\"\"\n",
    "C\t0.0000000\t0.0000000\t0.3592420\n",
    "C\t0.0000000\t1.2834610\t-0.4779710\n",
    "C\t0.0000000\t-1.2834610\t-0.4779710\n",
    "C\t0.0000000\t2.5666780\t0.3592560\n",
    "C\t0.0000000\t-2.5666780\t0.3592560\n",
    "C\t0.0000000\t3.8507350\t-0.4772200\n",
    "C\t0.0000000\t-3.8507350\t-0.4772200\n",
    "C\t0.0000000\t5.1260510\t0.3690190\n",
    "C\t0.0000000\t-5.1260510\t0.3690190\n",
    "H\t0.8823610\t0.0000000\t1.0269290\n",
    "H\t-0.8823610\t0.0000000\t1.0269290\n",
    "H\t0.8823890\t1.2834330\t-1.1456510\n",
    "H\t-0.8823890\t1.2834330\t-1.1456510\n",
    "H\t-0.8823890\t-1.2834330\t-1.1456510\n",
    "H\t0.8823890\t-1.2834330\t-1.1456510\n",
    "H\t0.8825040\t2.5673600\t1.0271240\n",
    "H\t-0.8825040\t2.5673600\t1.0271240\n",
    "H\t-0.8825040\t-2.5673600\t1.0271240\n",
    "H\t0.8825040\t-2.5673600\t1.0271240\n",
    "H\t-0.8821340\t3.8498300\t-1.1440670\n",
    "H\t0.8821340\t3.8498300\t-1.1440670\n",
    "H\t0.8821340\t-3.8498300\t-1.1440670\n",
    "H\t-0.8821340\t-3.8498300\t-1.1440670\n",
    "H\t0.0000000\t6.0307480\t-0.2602960\n",
    "H\t-0.8889530\t5.1732590\t1.0211610\n",
    "H\t0.8889530\t5.1732590\t1.0211610\n",
    "H\t0.0000000\t-6.0307480\t-0.2602960\n",
    "H\t0.8889530\t-5.1732590\t1.0211610\n",
    "H\t-0.8889530\t-5.1732590\t1.0211610\n",
    "\"\"\"\n",
    "mol.basis = 'cc-pVTZ'\n",
    "mol.verbose = 5\n",
    "mol.output = '/home/as1/Molecular Calculations - Summer2022QP/n-Alkanes/Calculations/n-Nonane.txt'\n",
    "mol.build()\n",
    "\n",
    "mf = scf.RHF(mol)\n",
    "mf.kernel()"
   ]
  },
  {
   "cell_type": "code",
   "execution_count": 38,
   "metadata": {},
   "outputs": [
    {
     "name": "stdout",
     "output_type": "stream",
     "text": [
      "overwrite output file: /home/as1/Molecular Calculations - Summer2022QP/n-Alkanes/Calculations/n-Decane.txt\n"
     ]
    },
    {
     "data": {
      "text/plain": [
       "-391.6374548389224"
      ]
     },
     "execution_count": 38,
     "metadata": {},
     "output_type": "execute_result"
    }
   ],
   "source": [
    "#n-Decane\n",
    "import pyscf\n",
    "from pyscf import gto, scf\n",
    "\n",
    "mol = gto.Mole()\n",
    "mol.atom = \"\"\"\n",
    "C\t0.0024600\t0.7661520\t0.0000000\n",
    "C\t-0.0024600\t-0.7661520\t0.0000000\n",
    "C\t-1.3989530\t1.3857660\t0.0000000\n",
    "C\t1.3989530\t-1.3857660\t0.0000000\n",
    "C\t-1.3989530\t2.9178460\t0.0000000\n",
    "C\t1.3989530\t-2.9178460\t0.0000000\n",
    "C\t-2.8015210\t3.5350690\t0.0000000\n",
    "C\t2.8015210\t-3.5350690\t0.0000000\n",
    "C\t-2.7912960\t5.0654730\t0.0000000\n",
    "C\t2.7912960\t-5.0654730\t0.0000000\n",
    "H\t0.5625770\t1.1293540\t0.8824370\n",
    "H\t0.5625770\t1.1293540\t-0.8824370\n",
    "H\t-0.5625770\t-1.1293540\t0.8824370\n",
    "H\t-0.5625770\t-1.1293540\t-0.8824370\n",
    "H\t-1.9585590\t1.0212280\t-0.8822990\n",
    "H\t-1.9585590\t1.0212280\t0.8822990\n",
    "H\t1.9585590\t-1.0212280\t-0.8822990\n",
    "H\t1.9585590\t-1.0212280\t0.8822990\n",
    "H\t-0.8400770\t3.2835530\t0.8825290\n",
    "H\t-0.8400770\t3.2835530\t-0.8825290\n",
    "H\t0.8400770\t-3.2835530\t0.8825290\n",
    "H\t0.8400770\t-3.2835530\t-0.8825290\n",
    "H\t-3.3592820\t3.1694040\t-0.8820710\n",
    "H\t-3.3592820\t3.1694040\t0.8820710\n",
    "H\t3.3592820\t-3.1694040\t-0.8820710\n",
    "H\t3.3592820\t-3.1694040\t0.8820710\n",
    "H\t-3.8130260\t5.4784550\t0.0000000\n",
    "H\t-2.2711710\t5.4618770\t0.8888980\n",
    "H\t-2.2711710\t5.4618770\t-0.8888980\n",
    "H\t3.8130260\t-5.4784550\t0.0000000\n",
    "H\t2.2711710\t-5.4618770\t0.8888980\n",
    "H\t2.2711710\t-5.4618770\t-0.8888980\n",
    "\"\"\"\n",
    "mol.basis = 'cc-pVTZ'\n",
    "mol.verbose = 5\n",
    "mol.output = '/home/as1/Molecular Calculations - Summer2022QP/n-Alkanes/Calculations/n-Decane.txt'\n",
    "mol.build()\n",
    "\n",
    "mf = scf.RHF(mol)\n",
    "mf.kernel()"
   ]
  },
  {
   "cell_type": "code",
   "execution_count": null,
   "metadata": {},
   "outputs": [],
   "source": []
  },
  {
   "cell_type": "code",
   "execution_count": null,
   "metadata": {},
   "outputs": [],
   "source": []
  }
 ],
 "metadata": {
  "kernelspec": {
   "display_name": "Python 3",
   "language": "python",
   "name": "python3"
  },
  "language_info": {
   "codemirror_mode": {
    "name": "ipython",
    "version": 3
   },
   "file_extension": ".py",
   "mimetype": "text/x-python",
   "name": "python",
   "nbconvert_exporter": "python",
   "pygments_lexer": "ipython3",
   "version": "3.8.10"
  }
 },
 "nbformat": 4,
 "nbformat_minor": 4
}
